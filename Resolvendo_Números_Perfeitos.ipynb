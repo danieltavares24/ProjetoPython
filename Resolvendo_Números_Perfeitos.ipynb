{
  "nbformat": 4,
  "nbformat_minor": 0,
  "metadata": {
    "colab": {
      "provenance": [],
      "authorship_tag": "ABX9TyMvD69SU+64t7QsGxr06gcu",
      "include_colab_link": true
    },
    "kernelspec": {
      "name": "python3",
      "display_name": "Python 3"
    },
    "language_info": {
      "name": "python"
    }
  },
  "cells": [
    {
      "cell_type": "markdown",
      "metadata": {
        "id": "view-in-github",
        "colab_type": "text"
      },
      "source": [
        "<a href=\"https://colab.research.google.com/github/danieltavares24/ProjetoPython/blob/main/Resolvendo_N%C3%BAmeros_Perfeitos.ipynb\" target=\"_parent\"><img src=\"https://colab.research.google.com/assets/colab-badge.svg\" alt=\"Open In Colab\"/></a>"
      ]
    },
    {
      "cell_type": "code",
      "execution_count": 4,
      "metadata": {
        "id": "1Evov0f7pAwK",
        "colab": {
          "base_uri": "https://localhost:8080/"
        },
        "outputId": "68c4fdd6-58fb-40f4-ff50-c16c29619aff"
      },
      "outputs": [
        {
          "output_type": "stream",
          "name": "stdout",
          "text": [
            "3\n",
            "6\n",
            "SIM\n",
            "5\n",
            "NÃO\n",
            "28\n",
            "SIM\n"
          ]
        }
      ],
      "source": [
        "import math\n",
        "\n",
        "def is_perfect_number(n):\n",
        "  \"\"\"Verifica se um número é perfeito.\n",
        "\n",
        "  Args:\n",
        "    n: O número a ser verificado.\n",
        "\n",
        "  Returns:\n",
        "    True se o número for perfeito, False caso contrário.\n",
        "  \"\"\"\n",
        "\n",
        "  soma_divisores = 1  # 1 sempre é divisor\n",
        "  for i in range(2, int(math.sqrt(n)) + 1):\n",
        "    if n % i == 0:\n",
        "      soma_divisores += i + (n // i)\n",
        "      if i * i == n:\n",
        "        soma_divisores -= i  # Evita contar a raiz quadrada duas vezes\n",
        "  return soma_divisores == n\n",
        "\n",
        "# Lê o número de casos de teste\n",
        "num_casos = int(input())\n",
        "\n",
        "# Processa cada caso de teste\n",
        "for _ in range(num_casos):\n",
        "  n = int(input())\n",
        "  if is_perfect_number(n):\n",
        "    print(\"SIM\")\n",
        "  else:\n",
        "    print(\"NÃO\")\n",
        "\n",
        "#  Quando esse código poderia ser útil em ciência de dados?\n",
        "\n",
        "# Pré-processamento de Dados: Em alguns casos, cálculos numéricos simples como\n",
        "# este podem ser usados como parte de um pré-processamento de dados,\n",
        "# por exemplo, para calcular estatísticas descritivas ou criar novas features.\n",
        "\n",
        "# Otimização de Código: A busca por algoritmos eficientes, como o utilizado no\n",
        "# código para calcular a soma dos divisores, é uma habilidade importante para\n",
        "# cientistas de dados, especialmente quando lidando com grandes conjuntos de\n",
        "# dados.\n",
        "\n",
        "# Fundamentos de Programação: Entender algoritmos e estruturas de dados é\n",
        "# fundamental para qualquer cientista de dados. Resolver problemas como este\n",
        "# ajuda a fortalecer essas habilidades.\n",
        "\n",
        "# Em resumo:\n",
        "\n",
        "# O código apresentado não é um exemplo de aplicação direta da ciência de dados.\n",
        "# No entanto, ele ilustra conceitos importantes de programação e algoritmos que\n",
        "# podem ser úteis para quem está começando a estudar ciência de dados.\n",
        "\n",
        "# By Daniel Tavares"
      ]
    }
  ]
}