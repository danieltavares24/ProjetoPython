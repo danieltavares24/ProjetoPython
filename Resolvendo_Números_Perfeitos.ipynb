{
  "nbformat": 4,
  "nbformat_minor": 0,
  "metadata": {
    "colab": {
      "provenance": [],
      "authorship_tag": "ABX9TyNs0bCYR/GyZbUwEg2Z0s0h",
      "include_colab_link": true
    },
    "kernelspec": {
      "name": "python3",
      "display_name": "Python 3"
    },
    "language_info": {
      "name": "python"
    }
  },
  "cells": [
    {
      "cell_type": "markdown",
      "metadata": {
        "id": "view-in-github",
        "colab_type": "text"
      },
      "source": [
        "<a href=\"https://colab.research.google.com/github/danieltavares24/ProjetoPython/blob/main/Resolvendo_N%C3%BAmeros_Perfeitos.ipynb\" target=\"_parent\"><img src=\"https://colab.research.google.com/assets/colab-badge.svg\" alt=\"Open In Colab\"/></a>"
      ]
    },
    {
      "cell_type": "code",
      "execution_count": 4,
      "metadata": {
        "id": "1Evov0f7pAwK",
        "colab": {
          "base_uri": "https://localhost:8080/"
        },
        "outputId": "68c4fdd6-58fb-40f4-ff50-c16c29619aff"
      },
      "outputs": [
        {
          "output_type": "stream",
          "name": "stdout",
          "text": [
            "3\n",
            "6\n",
            "SIM\n",
            "5\n",
            "NÃO\n",
            "28\n",
            "SIM\n"
          ]
        }
      ],
      "source": [
        "import math\n",
        "\n",
        "def is_perfect_number(n):\n",
        "  \"\"\"Verifica se um número é perfeito.\n",
        "\n",
        "  Args:\n",
        "    n: O número a ser verificado.\n",
        "\n",
        "  Returns:\n",
        "    True se o número for perfeito, False caso contrário.\n",
        "  \"\"\"\n",
        "\n",
        "  soma_divisores = 1  # 1 sempre é divisor\n",
        "  for i in range(2, int(math.sqrt(n)) + 1):\n",
        "    if n % i == 0:\n",
        "      soma_divisores += i + (n // i)\n",
        "      if i * i == n:\n",
        "        soma_divisores -= i  # Evita contar a raiz quadrada duas vezes\n",
        "  return soma_divisores == n\n",
        "\n",
        "# Lê o número de casos de teste\n",
        "num_casos = int(input())\n",
        "\n",
        "# Processa cada caso de teste\n",
        "for _ in range(num_casos):\n",
        "  n = int(input())\n",
        "  if is_perfect_number(n):\n",
        "    print(\"SIM\")\n",
        "  else:\n",
        "    print(\"NÃO\")\n",
        "\n",
        "# By Daniel Tavares\n"
      ]
    }
  ]
}