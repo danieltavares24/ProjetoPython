{
  "nbformat": 4,
  "nbformat_minor": 0,
  "metadata": {
    "colab": {
      "provenance": [],
      "authorship_tag": "ABX9TyNG+KDNGRufB55tewn1cAWP",
      "include_colab_link": true
    },
    "kernelspec": {
      "name": "python3",
      "display_name": "Python 3"
    },
    "language_info": {
      "name": "python"
    }
  },
  "cells": [
    {
      "cell_type": "markdown",
      "metadata": {
        "id": "view-in-github",
        "colab_type": "text"
      },
      "source": [
        "<a href=\"https://colab.research.google.com/github/danieltavares24/ProjetoPython/blob/main/Untitled10.ipynb\" target=\"_parent\"><img src=\"https://colab.research.google.com/assets/colab-badge.svg\" alt=\"Open In Colab\"/></a>"
      ]
    },
    {
      "cell_type": "code",
      "execution_count": 4,
      "metadata": {
        "colab": {
          "base_uri": "https://localhost:8080/"
        },
        "id": "r52nWOHW4TFi",
        "outputId": "4edf1295-221c-4c76-a590-b7ab78787f96"
      },
      "outputs": [
        {
          "output_type": "stream",
          "name": "stdout",
          "text": [
            "Por favor, insira seu nome: Daniel \n",
            "Digite uma mensagem (ou 'sair' para encerrar): encerrar\n",
            "Digite uma mensagem (ou 'sair' para encerrar): sair\n",
            "\n",
            "Conteúdo do arquivo em letras maiúsculas:\n",
            "NOME: DANIEL \n",
            "MENSAGENS:\n",
            "ENCERRAR\n",
            "\n"
          ]
        }
      ],
      "source": [
        "# Aplicativo de Registro de Dados\n",
        "\n",
        "# O código exemplifica funcionalidades importantes para a ciência de dados,\n",
        "# focando na coleta e pré-processamento de dados. Permite que usuários insiram\n",
        "# nome e mensagens, que são armazenadas em um arquivo de texto, semelhante a\n",
        "# projetos com formulários ou APIs. As mensagens são normalizadas para preparar\n",
        "# os dados para análise, e a exibição delas ajuda a comunicar resultados,\n",
        "# frequentemente apoiada por visualizações mais complexas. O tratamento de texto\n",
        "# possibilita análises avançadas, como o processamento de linguagem natural.\n",
        "# Embora simples, o código representa um ciclo fundamental em ciência de dados,\n",
        "# servindo como base para aplicações mais complexas e gerando insights valiosos.\n",
        "\n",
        "\n",
        "# Função para coletar dados do usuário\n",
        "def coletar_dados():\n",
        "    # Solicita ao usuário que insira seu nome\n",
        "    nome = input(\"Por favor, insira seu nome: \")\n",
        "    # Inicializa uma lista vazia para armazenar as mensagens\n",
        "    mensagens = []\n",
        "\n",
        "    # Inicia um loop para coletar mensagens até que o usuário decida sair\n",
        "    while True:\n",
        "        # Solicita ao usuário que digite uma mensagem\n",
        "        mensagem = input(\"Digite uma mensagem (ou 'sair' para encerrar): \")\n",
        "        # Verifica se o usuário deseja sair do loop\n",
        "        if mensagem.lower() == 'sair':\n",
        "            break\n",
        "        # Adiciona a mensagem à lista de mensagens\n",
        "        mensagens.append(mensagem)\n",
        "\n",
        "    # Retorna o nome e a lista de mensagens coletadas\n",
        "    return nome, mensagens\n",
        "\n",
        "# Função para salvar as mensagens em um arquivo\n",
        "def salvar_mensagens(nome, mensagens):\n",
        "    # Abre o arquivo 'mensagens.txt' para escrita (cria o arquivo se não existir)\n",
        "    with open('mensagens.txt', 'w') as arquivo:\n",
        "        # Escreve o nome do usuário no arquivo\n",
        "        arquivo.write(f'Nome: {nome}\\n')\n",
        "        # Escreve um cabeçalho para as mensagens\n",
        "        arquivo.write('Mensagens:\\n')\n",
        "        # Itera sobre cada mensagem e a escreve no arquivo\n",
        "        for mensagem in mensagens:\n",
        "            arquivo.write(mensagem + '\\n')\n",
        "\n",
        "# Função para transformar todas as mensagens para letras maiúsculas\n",
        "def transformar_mensagens():\n",
        "    # Abre o arquivo 'mensagens.txt' para leitura\n",
        "    with open('mensagens.txt', 'r') as arquivo:\n",
        "        # Lê todas as linhas do arquivo e as armazena em uma lista\n",
        "        linhas = arquivo.readlines()\n",
        "\n",
        "    # Abre o mesmo arquivo 'mensagens.txt' para escrita, sobrescrevendo seu conteúdo\n",
        "    with open('mensagens.txt', 'w') as arquivo:\n",
        "        # Itera sobre cada linha lida\n",
        "        for linha in linhas:\n",
        "            # Escreve a linha em letras maiúsculas\n",
        "            arquivo.write(linha.upper())\n",
        "\n",
        "# Função para exibir o conteúdo do arquivo\n",
        "def exibir_mensagens():\n",
        "    # Abre o arquivo 'mensagens.txt' para leitura\n",
        "    with open('mensagens.txt', 'r') as arquivo:\n",
        "        # Exibe uma mensagem de cabeçalho\n",
        "        print(\"\\nConteúdo do arquivo em letras maiúsculas:\")\n",
        "        # Lê e imprime o conteúdo do arquivo\n",
        "        print(arquivo.read())\n",
        "\n",
        "# Função principal que coordena o fluxo do programa\n",
        "def main():\n",
        "    # Chama a função para coletar dados e armazena o retorno\n",
        "    nome, mensagens = coletar_dados()\n",
        "    # Salva as mensagens coletadas no arquivo\n",
        "    salvar_mensagens(nome, mensagens)\n",
        "    # Transforma as mensagens no arquivo para letras maiúsculas\n",
        "    transformar_mensagens()\n",
        "    # Exibe o conteúdo do arquivo ao usuário\n",
        "    exibir_mensagens()\n",
        "\n",
        "# Verifica se o script está sendo executado diretamente\n",
        "if __name__ == \"__main__\":\n",
        "    # Chama a função principal para iniciar o programa\n",
        "    main()\n",
        "\n",
        "# By Daniel Tavares"
      ]
    }
  ]
}